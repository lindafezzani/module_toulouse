{
 "cells": [
  {
   "cell_type": "markdown",
   "metadata": {
    "slideshow": {
     "slide_type": "slide"
    }
   },
   "source": [
    "# Traitement d'images avec numpy et pydicom\n",
    "------------"
   ]
  },
  {
   "cell_type": "markdown",
   "metadata": {
    "slideshow": {
     "slide_type": "subslide"
    }
   },
   "source": [
    "Nous avons utilisé `ImageJ` pour réaliser une correction de diffusé par la méthode de la triple fenêtre durant l'année de DQPRM. L'opération est assez aisée mais particulèrement fastidieuse compte tenu des nombreuses opérations nécessaires à cette correction.\n",
    "De plus, durant le cours, certains paramètres tels que la largeur des fenêtres spectrométriques et leur position dans la pile d'images avaient été fournis. \n",
    "\n",
    "Dans cette exercice, nous vous proposons de réaliser la même correction mais en extrayant toutes les informations à partir des informations issues des images au format `dicom`. Pour cela, nous utiliserons le module `pydicom` pour l'interaction avec les fichiers dicom et `numpy` pour les opération sur les matrices images."
   ]
  },
  {
   "cell_type": "code",
   "execution_count": 1,
   "metadata": {
    "slideshow": {
     "slide_type": "subslide"
    }
   },
   "outputs": [],
   "source": [
    "%matplotlib inline\n",
    "import numpy as np\n",
    "import pydicom as dcm\n",
    "import SimpleITK as sitk\n",
    "\n",
    "import matplotlib.pyplot as plt\n",
    "from ipywidgets import interact"
   ]
  },
  {
   "cell_type": "markdown",
   "metadata": {
    "slideshow": {
     "slide_type": "subslide"
    }
   },
   "source": [
    "Ouvrons le fichier dicom"
   ]
  },
  {
   "cell_type": "code",
   "execution_count": 2,
   "metadata": {
    "slideshow": {
     "slide_type": "fragment"
    }
   },
   "outputs": [
    {
     "data": {
      "text/plain": [
       "'DQPRM^optionnel'"
      ]
     },
     "execution_count": 2,
     "metadata": {},
     "output_type": "execute_result"
    }
   ],
   "source": [
    "ds = dcm.read_file('./images/tomo1.dcm')\n",
    "ds.PatientName"
   ]
  },
  {
   "cell_type": "markdown",
   "metadata": {
    "slideshow": {
     "slide_type": "subslide"
    }
   },
   "source": [
    "## Récupération de certaines informations"
   ]
  },
  {
   "cell_type": "code",
   "execution_count": 3,
   "metadata": {
    "slideshow": {
     "slide_type": "fragment"
    }
   },
   "outputs": [
    {
     "name": "stdout",
     "output_type": "stream",
     "text": [
      "['ORIGINAL', 'PRIMARY', 'TOMO', 'EMISSION']\n",
      "NM\n"
     ]
    }
   ],
   "source": [
    "print(ds.ImageType)\n",
    "print(ds.Modality)"
   ]
  },
  {
   "cell_type": "markdown",
   "metadata": {
    "slideshow": {
     "slide_type": "subslide"
    }
   },
   "source": [
    "L'image est une image de MN (`EMISSION`) acquise (`PRIMARY`) tomographique (`TOMO`)"
   ]
  },
  {
   "cell_type": "code",
   "execution_count": 4,
   "metadata": {
    "scrolled": true,
    "slideshow": {
     "slide_type": "subslide"
    }
   },
   "outputs": [
    {
     "name": "stdout",
     "output_type": "stream",
     "text": [
      "taille pixel (mm):  4.7951998710632\n",
      "nb detecteurs:  2\n",
      "nb angles:  32\n",
      "durée projection (ms):  30003.0\n",
      "nb fenetres energie:  5\n"
     ]
    },
    {
     "data": {
      "text/plain": [
       "array([1, 1, 1, 1, 1, 1, 1, 1, 1, 1, 1, 1, 1, 1, 1, 1, 1, 1, 1, 1, 1, 1,\n",
       "       1, 1, 1, 1, 1, 1, 1, 1, 1, 1, 1, 1, 1, 1, 1, 1, 1, 1, 1, 1, 1, 1,\n",
       "       1, 1, 1, 1, 1, 1, 1, 1, 1, 1, 1, 1, 1, 1, 1, 1, 1, 1, 1, 1, 2, 2,\n",
       "       2, 2, 2, 2, 2, 2, 2, 2, 2, 2, 2, 2, 2, 2, 2, 2, 2, 2, 2, 2, 2, 2,\n",
       "       2, 2, 2, 2, 2, 2, 2, 2, 2, 2, 2, 2, 2, 2, 2, 2, 2, 2, 2, 2, 2, 2,\n",
       "       2, 2, 2, 2, 2, 2, 2, 2, 2, 2, 2, 2, 2, 2, 2, 2, 2, 2, 3, 3, 3, 3,\n",
       "       3, 3, 3, 3, 3, 3, 3, 3, 3, 3, 3, 3, 3, 3, 3, 3, 3, 3, 3, 3, 3, 3,\n",
       "       3, 3, 3, 3, 3, 3, 3, 3, 3, 3, 3, 3, 3, 3, 3, 3, 3, 3, 3, 3, 3, 3,\n",
       "       3, 3, 3, 3, 3, 3, 3, 3, 3, 3, 3, 3, 3, 3, 3, 3, 4, 4, 4, 4, 4, 4,\n",
       "       4, 4, 4, 4, 4, 4, 4, 4, 4, 4, 4, 4, 4, 4, 4, 4, 4, 4, 4, 4, 4, 4,\n",
       "       4, 4, 4, 4, 4, 4, 4, 4, 4, 4, 4, 4, 4, 4, 4, 4, 4, 4, 4, 4, 4, 4,\n",
       "       4, 4, 4, 4, 4, 4, 4, 4, 4, 4, 4, 4, 4, 4, 5, 5, 5, 5, 5, 5, 5, 5,\n",
       "       5, 5, 5, 5, 5, 5, 5, 5, 5, 5, 5, 5, 5, 5, 5, 5, 5, 5, 5, 5, 5, 5,\n",
       "       5, 5, 5, 5, 5, 5, 5, 5, 5, 5, 5, 5, 5, 5, 5, 5, 5, 5, 5, 5, 5, 5,\n",
       "       5, 5, 5, 5, 5, 5, 5, 5, 5, 5, 5, 5])"
      ]
     },
     "execution_count": 4,
     "metadata": {},
     "output_type": "execute_result"
    }
   ],
   "source": [
    "pixel_size = ds.PixelSpacing[0]\n",
    "nb_detect = int(ds.NumberOfDetectors)\n",
    "nb_angle = int(ds[0x054,0x052][0][0x054,0x053].value)\n",
    "duree_proj = float(ds[0x054,0x052][0][0x018,0x1242].value)\n",
    "pos_radial_0 = ds[0x054,0x022][0][0x018,0x1142].value\n",
    "pos_radial_1 = ds[0x054,0x022][1][0x018,0x1142].value\n",
    "nb_energy_win = ds[0x054, 0x011].value\n",
    "arr_energy_window = np.array(ds.EnergyWindowVector)\n",
    "print('taille pixel (mm): ', pixel_size)\n",
    "print('nb detecteurs: ', nb_detect)\n",
    "print('nb angles: ', nb_angle)\n",
    "print('durée projection (ms): ', duree_proj)\n",
    "print('nb fenetres energie: ', nb_energy_win)\n",
    "ds.NumberOfFrames\n",
    "arr_energy_window"
   ]
  },
  {
   "cell_type": "code",
   "execution_count": 5,
   "metadata": {
    "slideshow": {
     "slide_type": "subslide"
    }
   },
   "outputs": [
    {
     "data": {
      "image/png": "[encoded data removed]",
      "text/plain": [
       "<matplotlib.figure.Figure at 0x7fbbc99b5550>"
      ]
     },
     "metadata": {},
     "output_type": "display_data"
    }
   ],
   "source": [
    "pos_radial_0 = [float(val) for val in pos_radial_0]\n",
    "pos_radial_1 = [float(val) for val in pos_radial_1]\n",
    "plt.plot(pos_radial_1+pos_radial_0,'o-', label='detecteur 1+2')\n",
    "plt.xlabel('projection angulaire')\n",
    "plt.ylabel('position radial (mm)')\n",
    "plt.legend();"
   ]
  },
  {
   "cell_type": "code",
   "execution_count": 6,
   "metadata": {
    "slideshow": {
     "slide_type": "subslide"
    }
   },
   "outputs": [
    {
     "data": {
      "image/png": "[encoded data removed]",
      "text/plain": [
       "<matplotlib.figure.Figure at 0x7fbbc3420b00>"
      ]
     },
     "metadata": {},
     "output_type": "display_data"
    }
   ],
   "source": [
    "plt.polar([2*np.pi*l/64 for l in range(64)], \n",
    "          pos_radial_1+pos_radial_0);"
   ]
  },
  {
   "cell_type": "markdown",
   "metadata": {
    "slideshow": {
     "slide_type": "subslide"
    }
   },
   "source": [
    "On récupère l'image à l'aide de l'attribut `pixel_array` directement dans un `array` numpy."
   ]
  },
  {
   "cell_type": "code",
   "execution_count": 7,
   "metadata": {
    "slideshow": {
     "slide_type": "fragment"
    }
   },
   "outputs": [
    {
     "name": "stdout",
     "output_type": "stream",
     "text": [
      "(320, 128, 128)\n"
     ]
    }
   ],
   "source": [
    "arr_image = ds.pixel_array\n",
    "print(ds.pixel_array.shape)"
   ]
  },
  {
   "cell_type": "markdown",
   "metadata": {
    "slideshow": {
     "slide_type": "subslide"
    }
   },
   "source": [
    "L'image est donc un tableau contenant 320 images de 128x128 pixels"
   ]
  },
  {
   "cell_type": "markdown",
   "metadata": {
    "slideshow": {
     "slide_type": "fragment"
    }
   },
   "source": [
    "Utilisons un dictionnaire (clé=valeur) pour stocker les informations relatives aux fenêtres en energie "
   ]
  },
  {
   "cell_type": "code",
   "execution_count": 8,
   "metadata": {
    "slideshow": {
     "slide_type": "subslide"
    }
   },
   "outputs": [],
   "source": [
    "dic_energy = dict()\n",
    "for en_i in range(nb_energy_win):\n",
    "    limite_basse = float(ds.EnergyWindowInformationSequence[en_i][0x54,0x13][0][0x54,0x14].value)\n",
    "    limite_haute = float(ds.EnergyWindowInformationSequence[en_i][0x54,0x13][0][0x54,0x15].value)\n",
    "    pic_pos = np.mean([limite_basse, limite_haute])\n",
    "    energy_width = limite_haute - limite_basse\n",
    "    dic_energy[np.round(pic_pos,0)] = {'bas':limite_basse,\n",
    "                                       'haut':limite_haute,\n",
    "                                       'larg':energy_width,\n",
    "                                       'pic':pic_pos,\n",
    "                                       'pos_vec':en_i\n",
    "                                      }"
   ]
  },
  {
   "cell_type": "code",
   "execution_count": 9,
   "metadata": {
    "slideshow": {
     "slide_type": "subslide"
    }
   },
   "outputs": [
    {
     "name": "stdout",
     "output_type": "stream",
     "text": [
      "{216.0: {'pos_vec': 2, 'bas': 203.77500915527, 'haut': 228.47500610352, 'larg': 24.699996948250003, 'pic': 216.125007629395}, 192.0: {'pos_vec': 4, 'bas': 184.89999389648, 'haut': 198.66000366211, 'larg': 13.760009765630002, 'pic': 191.779998779295}, 146.0: {'pos_vec': 3, 'bas': 133.30000305176, 'haut': 159.10000610352, 'larg': 25.80000305176, 'pic': 146.20000457764002}, 172.0: {'pos_vec': 1, 'bas': 159.10000610352, 'haut': 184.89999389648, 'larg': 25.799987792959996, 'pic': 172.0}, 247.0: {'pos_vec': 0, 'bas': 228.47500610352, 'haut': 265.52499389648, 'larg': 37.049987792959996, 'pic': 247.0}}\n"
     ]
    }
   ],
   "source": [
    "print(dic_energy)"
   ]
  },
  {
   "cell_type": "code",
   "execution_count": 10,
   "metadata": {},
   "outputs": [
    {
     "data": {
      "text/plain": [
       "[146.0, 172.0, 192.0, 216.0, 247.0]"
      ]
     },
     "execution_count": 10,
     "metadata": {},
     "output_type": "execute_result"
    }
   ],
   "source": [
    "sorted(dic_energy.keys())"
   ]
  },
  {
   "cell_type": "markdown",
   "metadata": {},
   "source": [
    "Les clés du dictionnaire ne sont pas ordonnées. Déterminons les indices des images qui correspondent aux fenêtres énergétique classées par ordre croissant."
   ]
  },
  {
   "cell_type": "code",
   "execution_count": 11,
   "metadata": {},
   "outputs": [
    {
     "name": "stdout",
     "output_type": "stream",
     "text": [
      "[3, 1, 4, 2, 0]\n"
     ]
    }
   ],
   "source": [
    "ordered_window_energy = [dic_energy[k]['pos_vec'] for k in sorted(dic_energy.keys())]\n",
    "print(ordered_window_energy)"
   ]
  },
  {
   "cell_type": "markdown",
   "metadata": {},
   "source": [
    "Correction TEW sur le premier pic photo-électrique :\n",
    "- l'indice 0 du vecteur `ordered_window_energy` correspond l'indice de la fenêtre basse \n",
    "- l'indice 2 du vecteur `ordered_window_energy` correspond l'indice de la fenêtre haute\n",
    "- l'indice 1 du vecteur `ordered_window_energy` correspond l'indice de la fenêtre du pic photoélectrique"
   ]
  },
  {
   "cell_type": "markdown",
   "metadata": {
    "slideshow": {
     "slide_type": "subslide"
    }
   },
   "source": [
    "## Calcul de l'image TEW\n",
    "-----------\n",
    "Pour rappel, l'image corrigée de la diffusion par la méthode TEW est déterminée suivant la formule :\n",
    "$$ I_{cor.} = I_{PE}  - (\\frac{I_H}{w_H}+\\frac{I_B}{w_B}) \\times \\frac{w_{20\\%}}{2}$$\n",
    "\n",
    "- $I_H,\\, I_B, I_{PE}$ sont les images situées sur les fenêtres haute, basse et centré sur le pic photoélectrique respectivement\n",
    "- $w_H,\\, w_B$ sont les largeurs des fenêtres en énergie haute et basse respectivement\n"
   ]
  },
  {
   "cell_type": "markdown",
   "metadata": {
    "slideshow": {
     "slide_type": "subslide"
    }
   },
   "source": [
    "On détermine les indices du vecteur `arr_energy_window` qui correspondent aux fenêtres d'intérêt:"
   ]
  },
  {
   "cell_type": "code",
   "execution_count": 12,
   "metadata": {
    "slideshow": {
     "slide_type": "subslide"
    }
   },
   "outputs": [
    {
     "name": "stdout",
     "output_type": "stream",
     "text": [
      "(array([128, 129, 130, 131, 132, 133, 134, 135, 136, 137, 138, 139, 140,\n",
      "       141, 142, 143, 144, 145, 146, 147, 148, 149, 150, 151, 152, 153,\n",
      "       154, 155, 156, 157, 158, 159, 160, 161, 162, 163, 164, 165, 166,\n",
      "       167, 168, 169, 170, 171, 172, 173, 174, 175, 176, 177, 178, 179,\n",
      "       180, 181, 182, 183, 184, 185, 186, 187, 188, 189, 190, 191]),)\n"
     ]
    }
   ],
   "source": [
    "idx_bas = np.where(arr_energy_window == ordered_window_energy[0])\n",
    "idx_haut = np.where(arr_energy_window == ordered_window_energy[2])\n",
    "idx_pe = np.where(arr_energy_window == ordered_window_energy[1])\n",
    "print(idx_bas)"
   ]
  },
  {
   "cell_type": "code",
   "execution_count": 20,
   "metadata": {
    "slideshow": {
     "slide_type": "subslide"
    }
   },
   "outputs": [
    {
     "data": {
      "text/plain": [
       "((64, 128, 128), (64, 128, 128), (64, 128, 128))"
      ]
     },
     "execution_count": 20,
     "metadata": {},
     "output_type": "execute_result"
    }
   ],
   "source": [
    "tew_image_basse = arr_image[idx_bas]#3\n",
    "tew_image_haute = arr_image[idx_haut]#4\n",
    "tew_image_pic = arr_image[idx_pe]#1\n",
    "tew_image_pic.shape, tew_image_haute.shape, tew_image_basse.shape"
   ]
  },
  {
   "cell_type": "markdown",
   "metadata": {
    "slideshow": {
     "slide_type": "subslide"
    }
   },
   "source": [
    "Python permet d'écrire des lignes de codes concises et explicites. Le mécanisme de comprehension de liste en est un exemple."
   ]
  },
  {
   "cell_type": "code",
   "execution_count": 22,
   "metadata": {
    "slideshow": {
     "slide_type": "subslide"
    }
   },
   "outputs": [],
   "source": [
    "width_image_basse = [dic_energy[key]['larg'] for key in dic_energy.keys() if dic_energy[key]['pos_vec'] == ordered_window_energy[0]][0]\n",
    "width_image_haute = [dic_energy[key]['larg'] for key in dic_energy.keys() if dic_energy[key]['pos_vec'] == ordered_window_energy[2]][0]\n",
    "width_image_pe = [dic_energy[key]['larg'] for key in dic_energy.keys() if dic_energy[key]['pos_vec'] == ordered_window_energy[1]][0]\n",
    "tew_image_basse = tew_image_basse / width_image_basse\n",
    "tew_image_haute = tew_image_haute / width_image_haute\n",
    "img_corr = ((tew_image_haute+tew_image_basse)/2)*width_image_pe"
   ]
  },
  {
   "cell_type": "markdown",
   "metadata": {
    "slideshow": {
     "slide_type": "subslide"
    }
   },
   "source": [
    "On utilise le mécanisme de masque pour supprimer les valeurs négatives des images pouvant survenir à la suite de l'opération de soustraction pixel à pixel des 2 images `tew_image_pic` et `img_corr`. "
   ]
  },
  {
   "cell_type": "code",
   "execution_count": 27,
   "metadata": {
    "slideshow": {
     "slide_type": "subslide"
    }
   },
   "outputs": [
    {
     "name": "stdout",
     "output_type": "stream",
     "text": [
      "nombre de coups dans l'image\n",
      "non corrigée: 84149\n",
      "corrigée: 72244\n"
     ]
    }
   ],
   "source": [
    "tew_img_corr = tew_image_pic - img_corr\n",
    "tew_img_corr[tew_img_corr < 0] = 0\n",
    "tew_img_corr = tew_img_corr.astype(np.int16)\n",
    "print(\"nombre de coups dans l'image\\nnon corrigée: {}\\ncorrigée: {}\".format(tew_image_pic[0].sum(), tew_img_corr[0].sum()))"
   ]
  },
  {
   "cell_type": "code",
   "execution_count": 24,
   "metadata": {
    "slideshow": {
     "slide_type": "subslide"
    }
   },
   "outputs": [
    {
     "data": {
      "application/vnd.jupyter.widget-view+json": {
       "model_id": "4d477c9e55694f299b7070a52427b9b5",
       "version_major": 2,
       "version_minor": 0
      },
      "text/plain": [
       "interactive(children=(IntSlider(value=31, description='proj', max=63), Output()), _dom_classes=('widget-intera…"
      ]
     },
     "metadata": {},
     "output_type": "display_data"
    }
   ],
   "source": [
    "def plot_image(proj):\n",
    "    fig, ax = plt.subplots(nrows=1, ncols=2, figsize=(15,5))\n",
    "    ax[0].imshow(tew_image_pic[proj], cmap=plt.cm.gray_r)\n",
    "    ax[1].imshow(tew_img_corr[proj], cmap=plt.cm.gray_r)\n",
    "interact(plot_image, proj=(0,63));"
   ]
  },
  {
   "cell_type": "markdown",
   "metadata": {
    "slideshow": {
     "slide_type": "subslide"
    }
   },
   "source": [
    "Création d'un profil le long d'une ligne."
   ]
  },
  {
   "cell_type": "code",
   "execution_count": 25,
   "metadata": {
    "slideshow": {
     "slide_type": "subslide"
    }
   },
   "outputs": [
    {
     "data": {
      "application/vnd.jupyter.widget-view+json": {
       "model_id": "e5d42ade061c4910ad8adc0e73c53600",
       "version_major": 2,
       "version_minor": 0
      },
      "text/plain": [
       "interactive(children=(IntSlider(value=31, description='proj', max=63), IntSlider(value=63, description='line',…"
      ]
     },
     "metadata": {},
     "output_type": "display_data"
    }
   ],
   "source": [
    "def compare_profil(proj, line):\n",
    "    \n",
    "    plt.plot(tew_image_pic[proj,line,:], label='uncorrected')\n",
    "    plt.plot(tew_img_corr[proj,line,:], label='corrected')\n",
    "    plt.legend();\n",
    "\n",
    "interact(compare_profil, proj=(0,63), line=(22,104));"
   ]
  },
  {
   "cell_type": "markdown",
   "metadata": {},
   "source": [
    "Création de l'image corrigée et sauvegarde dans un format d'images de type `mha`."
   ]
  },
  {
   "cell_type": "code",
   "execution_count": 26,
   "metadata": {},
   "outputs": [],
   "source": [
    "img_tew = sitk.GetImageFromArray(tew_img_corr)\n",
    "sitk.WriteImage(img_tew,'test.mha')"
   ]
  }
 ],
 "metadata": {
  "celltoolbar": "Slideshow",
  "kernelspec": {
   "display_name": "Python 3",
   "language": "python",
   "name": "python3"
  },
  "language_info": {
   "codemirror_mode": {
    "name": "ipython",
    "version": 3
   },
   "file_extension": ".py",
   "mimetype": "text/x-python",
   "name": "python",
   "nbconvert_exporter": "python",
   "pygments_lexer": "ipython3",
   "version": "3.7.3"
  },
  "toc": {
   "base_numbering": 1,
   "nav_menu": {},
   "number_sections": true,
   "sideBar": true,
   "skip_h1_title": false,
   "title_cell": "Table of Contents",
   "title_sidebar": "Contents",
   "toc_cell": false,
   "toc_position": {},
   "toc_section_display": true,
   "toc_window_display": false
  }
 },
 "nbformat": 4,
 "nbformat_minor": 4
}
