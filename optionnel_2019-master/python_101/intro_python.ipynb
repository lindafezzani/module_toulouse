{
 "cells": [
  {
   "cell_type": "markdown",
   "metadata": {
    "slideshow": {
     "slide_type": "slide"
    },
    "toc-hr-collapsed": false
   },
   "source": [
    "# Brève introduction à Python\n",
    "----"
   ]
  },
  {
   "cell_type": "markdown",
   "metadata": {
    "slideshow": {
     "slide_type": "subslide"
    }
   },
   "source": [
    "Python est un language de programmation avec certaines spécificités vis à vis de languages comme C, Fortran, BASIC, PHP, etc...\n",
    "\n",
    "- C'est un language **interpreté** donc pas de processus de compilation avant son execution comme en C ou Portran, Pascal. \n",
    "- Utilisation **interactive** ou sous forme de **scripts** (enchainement de commandes) exécutables.\n",
    "- C'est un language **open-source**\n",
    "- Il est **multi-plateforme** : Windows, Linux/Unix, MacOS X,\n",
    "- Il est doté d'une **syntaxe claire, explicite et très lisible**,\n",
    "- C'est un language possédant **un grand nombre de bibliothèques de grande qualité** pour des applications diverses, en allenat du web au calcul scientifique.\n",
    "- Il s'interface très bien avec d'autres languages dont en particulier C and C++.\n",
    "- C'est un language orienté-objet avec **typage dynamique** (la même variable peut contenir des objets de différents types durant l'execution du script)"
   ]
  },
  {
   "cell_type": "markdown",
   "metadata": {
    "slideshow": {
     "slide_type": "slide"
    }
   },
   "source": [
    "## Premiers pas\n",
    "---"
   ]
  },
  {
   "cell_type": "code",
   "execution_count": 1,
   "metadata": {
    "slideshow": {
     "slide_type": "subslide"
    }
   },
   "outputs": [
    {
     "name": "stdout",
     "output_type": "stream",
     "text": [
      "Bienvenue à Toulouse\n"
     ]
    }
   ],
   "source": [
    "print(\"Bienvenue à Toulouse\")"
   ]
  },
  {
   "cell_type": "code",
   "execution_count": 3,
   "metadata": {
    "slideshow": {
     "slide_type": "fragment"
    }
   },
   "outputs": [
    {
     "name": "stdout",
     "output_type": "stream",
     "text": [
      "6 <class 'int'>\n"
     ]
    }
   ],
   "source": [
    "a = 3\n",
    "b = a*2\n",
    "print(b, type(b))"
   ]
  },
  {
   "cell_type": "code",
   "execution_count": 4,
   "metadata": {
    "slideshow": {
     "slide_type": "fragment"
    }
   },
   "outputs": [
    {
     "name": "stdout",
     "output_type": "stream",
     "text": [
      "Python est super cool <class 'str'>\n"
     ]
    }
   ],
   "source": [
    "b = \"Python est super cool\"\n",
    "print(b, type(b))"
   ]
  },
  {
   "cell_type": "code",
   "execution_count": 5,
   "metadata": {
    "scrolled": true
   },
   "outputs": [
    {
     "name": "stdout",
     "output_type": "stream",
     "text": [
      "une chaine de caractèresune chaine de caractères\n",
      "une chaine de caractèresune chaine de caractèresune chaine de caractères\n"
     ]
    }
   ],
   "source": [
    "c = 'une chaine de caractères'\n",
    "print(c+c)\n",
    "print(c*3)"
   ]
  },
  {
   "cell_type": "code",
   "execution_count": null,
   "metadata": {},
   "outputs": [],
   "source": []
  },
  {
   "cell_type": "markdown",
   "metadata": {
    "slideshow": {
     "slide_type": "slide"
    }
   },
   "source": [
    "## Les types de bases\n",
    "-----------\n",
    "Les types de bases sont les entiers, flottants, complexes, booléens"
   ]
  },
  {
   "cell_type": "code",
   "execution_count": null,
   "metadata": {
    "slideshow": {
     "slide_type": "fragment"
    }
   },
   "outputs": [],
   "source": [
    "i = 1 # entier\n",
    "f = 2.4 # flottant\n",
    "c = 1+2j # complexe\n",
    "print(c+i+f, type(c))\n",
    "print(c.real, c.imag, c.conjugate())"
   ]
  },
  {
   "cell_type": "code",
   "execution_count": null,
   "metadata": {
    "slideshow": {
     "slide_type": "fragment"
    }
   },
   "outputs": [],
   "source": [
    "test = (i < 0)\n",
    "print(test, type(test))"
   ]
  },
  {
   "cell_type": "markdown",
   "metadata": {
    "slideshow": {
     "slide_type": "subslide"
    }
   },
   "source": [
    "## Les opérations de base\n",
    "-----------\n",
    "- Les opérations disponibles sont : +, -, x, /, %(modulo), // (division entière), ** (puissance)\n",
    "\n",
    "- Les conversions de types de données (le casting)"
   ]
  },
  {
   "cell_type": "code",
   "execution_count": null,
   "metadata": {
    "slideshow": {
     "slide_type": "fragment"
    }
   },
   "outputs": [],
   "source": [
    "a = 2+3**3\n",
    "b = a/3\n",
    "c = a//3\n",
    "d = a%3\n",
    "print(a, round(b,2), c, d)"
   ]
  },
  {
   "cell_type": "code",
   "execution_count": null,
   "metadata": {
    "slideshow": {
     "slide_type": "fragment"
    }
   },
   "outputs": [],
   "source": [
    "e = float(a)\n",
    "print(e//3)"
   ]
  },
  {
   "cell_type": "markdown",
   "metadata": {
    "slideshow": {
     "slide_type": "subslide"
    }
   },
   "source": [
    "Levée d'une **exception**  par Python si un problème de conversion survient."
   ]
  },
  {
   "cell_type": "markdown",
   "metadata": {
    "slideshow": {
     "slide_type": "-"
    }
   },
   "source": [
    "```python\n",
    "f = str(a)\n",
    "print(f//3) \n",
    "---------------------------------------------------------------------------\n",
    "TypeError                                 Traceback (most recent call last)\n",
    "<ipython-input-3-ce643e6b3450> in <module>()\n",
    "      1 f = str(a)\n",
    "----> 2 print(f//3)\n",
    "\n",
    "TypeError: unsupported operand type(s) for //: 'str' and 'int'\n",
    "---------------------------------------------------------------------------        \n",
    "```  "
   ]
  },
  {
   "cell_type": "markdown",
   "metadata": {
    "slideshow": {
     "slide_type": "subslide"
    }
   },
   "source": [
    "<div class='alert alert-success' role='alert'>\n",
    "    <h5 class='alert-heading'>Remarque :</h5>    \n",
    "    <small>Python permet de capturer les exceptions et permettre un traitement spécifique si besoin.</small>\n",
    "</div>"
   ]
  },
  {
   "cell_type": "code",
   "execution_count": null,
   "metadata": {
    "slideshow": {
     "slide_type": "-"
    }
   },
   "outputs": [],
   "source": [
    "f = str(a)\n",
    "try:\n",
    "    print(f//3)    \n",
    "except TypeError as e:\n",
    "    print(e)"
   ]
  },
  {
   "cell_type": "markdown",
   "metadata": {
    "slideshow": {
     "slide_type": "slide"
    },
    "toc-hr-collapsed": false
   },
   "source": [
    "## Les conteneurs\n",
    "-----------\n"
   ]
  },
  {
   "cell_type": "markdown",
   "metadata": {
    "slideshow": {
     "slide_type": "subslide"
    },
    "toc-hr-collapsed": false
   },
   "source": [
    "### Les listes\n",
    "-----------\n",
    "- Collection **ordonnée** et **modifiable** d'objets de type différent potentiellement\n",
    "- Accès aux éléments par indexation. L'index du premier élément est **zéro**"
   ]
  },
  {
   "cell_type": "code",
   "execution_count": null,
   "metadata": {
    "slideshow": {
     "slide_type": "fragment"
    }
   },
   "outputs": [],
   "source": [
    "# une  liste vide\n",
    "liste_1 = []\n",
    "# une liste avec des objets variés (entier, caractère, liste)\n",
    "liste_2 = [1, 'a', [2,3]]\n",
    "print(liste_1, liste_2, liste_2[1])"
   ]
  },
  {
   "cell_type": "markdown",
   "metadata": {
    "slideshow": {
     "slide_type": "subslide"
    }
   },
   "source": [
    "#### Ajout d'éléments à une liste\n",
    "---------"
   ]
  },
  {
   "cell_type": "code",
   "execution_count": null,
   "metadata": {
    "slideshow": {
     "slide_type": "fragment"
    }
   },
   "outputs": [],
   "source": [
    "# ajout d'un élément en fin de liste\n",
    "liste_1.append(1)\n",
    "# ajout d'une liste d'éléments en fin de liste\n",
    "liste_1.extend([2,3])\n",
    "# ajout d'une autre liste d'éléments\n",
    "liste_1 = liste_1 + [4, 5]\n",
    "\n",
    "liste_2 = liste_2*2\n",
    "\n",
    "print(\"liste_1: {}\\nliste_2: {}\".format(liste_1,liste_2))"
   ]
  },
  {
   "cell_type": "markdown",
   "metadata": {
    "slideshow": {
     "slide_type": "subslide"
    }
   },
   "source": [
    "#### Les méthodes/fonctions associées \n",
    "------------\n",
    "Les listes sont des objets possédant des méthodes d'ajout, de suppression d'élements, de tri, ...\n",
    "\n",
    "Pour accèder à ces fonctions, dans une cellule, utilisez la touche <kbd>Tab</kbd> précédée du point comme cela:\n",
    "\n",
    "```python\n",
    "    liste_1.<tab>\n",
    "```\n",
    "et vous obtenez la liste des méthodes associées à l'objet liste_1."
   ]
  },
  {
   "cell_type": "code",
   "execution_count": null,
   "metadata": {
    "slideshow": {
     "slide_type": "fragment"
    }
   },
   "outputs": [],
   "source": [
    "liste_1.pop(3)"
   ]
  },
  {
   "cell_type": "code",
   "execution_count": null,
   "metadata": {
    "slideshow": {
     "slide_type": "fragment"
    }
   },
   "outputs": [],
   "source": [
    "# On peut modifier les éléments d'une liste\n",
    "liste_1[0] = 0\n",
    "print(liste_1)"
   ]
  },
  {
   "cell_type": "code",
   "execution_count": null,
   "metadata": {
    "slideshow": {
     "slide_type": "subslide"
    }
   },
   "outputs": [],
   "source": [
    "try:\n",
    "    liste_1[6]\n",
    "except IndexError as e:\n",
    "    print(e)\n",
    "    print(\"Tu depasses les bornes !\")\n",
    "print(\"mais ce n'est pas grave\")    "
   ]
  },
  {
   "cell_type": "markdown",
   "metadata": {
    "slideshow": {
     "slide_type": "subslide"
    }
   },
   "source": [
    "#### Parcourir une liste\n",
    "------------"
   ]
  },
  {
   "cell_type": "code",
   "execution_count": null,
   "metadata": {
    "slideshow": {
     "slide_type": "fragment"
    }
   },
   "outputs": [],
   "source": [
    "# accès à un élément de la liste\n",
    "print(\"premier élément {}, dernier élément {}\".format(liste_1[0],\n",
    "                                                      liste_1[-1]))\n",
    "# on peut prendre une tranche\n",
    "print(liste_1[0:3])\n",
    "# on peut aussi inverser la liste facilement\n",
    "print(liste_1[::-1])\n",
    "# parcourir la liste avec un incrément fixé\n",
    "print(liste_1[::2])\n",
    "# et même à rebours\n",
    "print(liste_1[::-2])"
   ]
  },
  {
   "cell_type": "markdown",
   "metadata": {
    "slideshow": {
     "slide_type": "subslide"
    }
   },
   "source": [
    "#### Tri d'une liste\n",
    "---------"
   ]
  },
  {
   "cell_type": "code",
   "execution_count": null,
   "metadata": {
    "slideshow": {
     "slide_type": "fragment"
    }
   },
   "outputs": [],
   "source": [
    "liste_a_trier = [23, 3, 0, 10, 45]\n",
    "liste_triee = sorted(liste_a_trier)\n",
    "liste_triee_inverse = sorted(liste_a_trier, reverse=True)\n",
    "print(liste_triee, liste_triee_inverse)"
   ]
  },
  {
   "cell_type": "code",
   "execution_count": null,
   "metadata": {
    "slideshow": {
     "slide_type": "fragment"
    }
   },
   "outputs": [],
   "source": [
    "try:\n",
    "    liste_a_trier = [23, 3, 0, 10,'a', 45, 0+2j]\n",
    "    print(sorted(liste_a_trier))\n",
    "except TypeError as e:\n",
    "    print(e)"
   ]
  },
  {
   "cell_type": "markdown",
   "metadata": {
    "slideshow": {
     "slide_type": "subslide"
    }
   },
   "source": [
    "### Les tuples\n",
    "-----------\n",
    "- Collection **ordonnée** et **non modifiable** d'objets de type différent potentiellement\n",
    "- Accès aux éléments par indexation"
   ]
  },
  {
   "cell_type": "code",
   "execution_count": null,
   "metadata": {
    "slideshow": {
     "slide_type": "fragment"
    }
   },
   "outputs": [],
   "source": [
    "# un tuple \n",
    "tuple_1 = (1, 'a', [2,3])\n",
    "print(tuple_1)"
   ]
  },
  {
   "cell_type": "markdown",
   "metadata": {
    "slideshow": {
     "slide_type": "subslide"
    }
   },
   "source": [
    "La modification du tuple n'est pas permise"
   ]
  },
  {
   "cell_type": "code",
   "execution_count": null,
   "metadata": {
    "slideshow": {
     "slide_type": "fragment"
    }
   },
   "outputs": [],
   "source": [
    "# ajout d'un élément\n",
    "tuple_1[0]\n",
    "try:\n",
    "    tuple_1[0] = 2\n",
    "except TypeError as e:\n",
    "    print(e)\n",
    "    print(\"Et oui, modification impossible!\")"
   ]
  },
  {
   "cell_type": "markdown",
   "metadata": {},
   "source": [
    "<p class='alert alert-info'>Les tuples ne sont pas modifiables (objets immuables).</p> Ils peuvent servir pour stocker des coordonnées dont on sait qu'on ne modifiera pas les valeurs."
   ]
  },
  {
   "cell_type": "markdown",
   "metadata": {
    "slideshow": {
     "slide_type": "subslide"
    }
   },
   "source": [
    "### Les dictionnaires\n",
    "-----------\n",
    "Les dictionnaires sont des conteneurs liant des **clés ordonnées** à des **objets**."
   ]
  },
  {
   "cell_type": "code",
   "execution_count": null,
   "metadata": {
    "slideshow": {
     "slide_type": "fragment"
    }
   },
   "outputs": [],
   "source": [
    "# création d'un dictionnaire vide\n",
    "dico_1 = {}\n",
    "# création d'un dictionnaire contenant 2 objets  \n",
    "dico_1={'p1':(0,1),'p2':(2,4)}\n",
    "# ajout d'une clé/valeur\n",
    "dico_1['p3'] = (4,6)\n",
    "dico_1['p4'] = (4,6)\n",
    "# On peut vérifier que le dictionnaire ne conserve pas l'ordre de création des paires\n",
    "print('le dico:', dico_1, '\\np1:',dico_1['p1'], '\\nles clés:',dico_1.keys())"
   ]
  },
  {
   "cell_type": "code",
   "execution_count": null,
   "metadata": {
    "slideshow": {
     "slide_type": "fragment"
    }
   },
   "outputs": [],
   "source": [
    "try:\n",
    "    print(dico_1['p6'])\n",
    "except KeyError as e:\n",
    "    print(e)\n",
    "    print('clé absente du dictionnaire')    "
   ]
  },
  {
   "cell_type": "markdown",
   "metadata": {
    "slideshow": {
     "slide_type": "subslide"
    },
    "toc-hr-collapsed": true
   },
   "source": [
    "### Les chaines de caractères\n",
    "-----------"
   ]
  },
  {
   "cell_type": "markdown",
   "metadata": {},
   "source": [
    "Les chaines peuvent être créer de plusieures façons:"
   ]
  },
  {
   "cell_type": "code",
   "execution_count": null,
   "metadata": {},
   "outputs": [],
   "source": [
    "# un guillement simple\n",
    "chaine1 = 'chaine1'\n",
    "# des guillemets doubles\n",
    "chaine2 = \"chaine2\"\n",
    "# des guillemets triples\n",
    "chaine3 = '''chaine3\n",
    "tient\n",
    "sur deux lignes'''\n",
    "print(chaine1, chaine2)\n",
    "print(chaine3)"
   ]
  },
  {
   "cell_type": "markdown",
   "metadata": {
    "slideshow": {
     "slide_type": "subslide"
    }
   },
   "source": [
    "Si la chaine doit contenir des guillemets, il faut encadrer la chaine par des guillemets doubles."
   ]
  },
  {
   "cell_type": "code",
   "execution_count": null,
   "metadata": {},
   "outputs": [],
   "source": [
    "print(\"il s'agit de ne pas se tromper.\")"
   ]
  },
  {
   "cell_type": "markdown",
   "metadata": {
    "slideshow": {
     "slide_type": "subslide"
    }
   },
   "source": [
    "#### L'accès et modification des éléments d'une chaine \n",
    "-----------"
   ]
  },
  {
   "cell_type": "code",
   "execution_count": null,
   "metadata": {},
   "outputs": [],
   "source": [
    "print(chaine3+'\\n')\n",
    "print(chaine3[0:6])\n",
    "try:    \n",
    "    chaine3[6]=4\n",
    "except TypeError as e:\n",
    "    print(e)\n",
    "    print(chaine3.replace('3','1',1))"
   ]
  },
  {
   "cell_type": "markdown",
   "metadata": {
    "slideshow": {
     "slide_type": "subslide"
    }
   },
   "source": [
    "#### Le formatage de chaine\n",
    "-----------\n",
    "Il existe plusieurs mécanisme pour formater les chaines de caractères. Par exemple:"
   ]
  },
  {
   "cell_type": "code",
   "execution_count": null,
   "metadata": {},
   "outputs": [],
   "source": [
    "chaine_formatee = \"Exemple de formatage de {} en python \".format(chaine1)\n",
    "print(chaine_formatee)\n",
    "ex2 = \"la valeur réelle {0}, arrondie à 2 décimale {0:.2f} et en notation scientifique {0:.2e}\".format(0.5465646)\n",
    "print(ex2)"
   ]
  },
  {
   "cell_type": "markdown",
   "metadata": {
    "slideshow": {
     "slide_type": "subslide"
    },
    "toc-hr-collapsed": true
   },
   "source": [
    "## Contrôles des flux\n",
    "--------\n",
    "<p class='alert alert-danger'>Les <b>blocs</b> de codes sont délimités par leur <b>indentation</b> (4 espaces).</p>"
   ]
  },
  {
   "cell_type": "markdown",
   "metadata": {
    "slideshow": {
     "slide_type": "subslide"
    }
   },
   "source": [
    "### Test if/elif/else\n",
    "-------"
   ]
  },
  {
   "cell_type": "code",
   "execution_count": null,
   "metadata": {},
   "outputs": [],
   "source": [
    "chaine_a_tester = 'abcdef'\n",
    "if len(chaine_a_tester) > 5:\n",
    "    print('la longueur de la chaine est supérieure à 5')\n",
    "elif len(chaine_a_tester) <= 4:\n",
    "    print('la longueur de la chaine est inférieure à 5')\n",
    "else:\n",
    "    print('la longueur de la chaine est égale à 5')"
   ]
  },
  {
   "cell_type": "markdown",
   "metadata": {
    "slideshow": {
     "slide_type": "subslide"
    }
   },
   "source": [
    "### Les boucles \n",
    "-------"
   ]
  },
  {
   "cell_type": "markdown",
   "metadata": {},
   "source": [
    "#### for/range"
   ]
  },
  {
   "cell_type": "code",
   "execution_count": null,
   "metadata": {},
   "outputs": [],
   "source": [
    "'''la range() renvoie un objet sur lequel\n",
    "   on peut réaliser itérer des itérations'''\n",
    "for i in range(4):\n",
    "    print(i)"
   ]
  },
  {
   "cell_type": "code",
   "execution_count": null,
   "metadata": {},
   "outputs": [],
   "source": [
    "# on peut aussi itérer sur une liste, un tuple\n",
    "for el in ['super', 'génial', 'cool']:\n",
    "    print(\"l'epu est est\", el,'!')"
   ]
  },
  {
   "cell_type": "markdown",
   "metadata": {
    "slideshow": {
     "slide_type": "subslide"
    }
   },
   "source": [
    "#### While\n",
    "-------"
   ]
  },
  {
   "cell_type": "code",
   "execution_count": null,
   "metadata": {},
   "outputs": [],
   "source": [
    "z = 1 + 1j\n",
    "while abs(z) < 100:\n",
    "    z = z**2 + 1    \n",
    "print(z)"
   ]
  },
  {
   "cell_type": "markdown",
   "metadata": {},
   "source": [
    "#### Break et continue"
   ]
  },
  {
   "cell_type": "code",
   "execution_count": null,
   "metadata": {},
   "outputs": [],
   "source": [
    "z = 1 + 1j\n",
    "# on arrete la boucle \n",
    "while abs(z) < 100:\n",
    "    if z.imag < 0:\n",
    "        break\n",
    "    z = z**2 + 1\n",
    "print(z)"
   ]
  },
  {
   "cell_type": "code",
   "execution_count": null,
   "metadata": {},
   "outputs": [],
   "source": [
    "a = [1, 0, 2, 4]\n",
    "for element in a:\n",
    "    if element == 0:\n",
    "        continue\n",
    "    print(1 / element)"
   ]
  },
  {
   "cell_type": "markdown",
   "metadata": {
    "slideshow": {
     "slide_type": "slide"
    },
    "toc-hr-collapsed": true
   },
   "source": [
    "## Fonctions\n",
    "----------\n",
    "Les fonctions sont définies par le mot clé ```def```. Notez l'indentation de 4 espaces dans le corps de la fonction."
   ]
  },
  {
   "cell_type": "code",
   "execution_count": null,
   "metadata": {},
   "outputs": [],
   "source": [
    "def ma_somme(parametre1, parametre2):\n",
    "    variable_local = parametre1+parametre2\n",
    "    return variable_local\n",
    "\n",
    "print('retour de ma fonction:', ma_somme(1,2))"
   ]
  },
  {
   "cell_type": "markdown",
   "metadata": {
    "slideshow": {
     "slide_type": "fragment"
    }
   },
   "source": [
    "Notez que vous n'avez pas accès aux variables locales définies dans le corps de la fonction en dehors de cette fonction."
   ]
  },
  {
   "cell_type": "code",
   "execution_count": null,
   "metadata": {
    "slideshow": {
     "slide_type": "fragment"
    }
   },
   "outputs": [],
   "source": [
    "try:\n",
    "    print(variable_local)\n",
    "except NameError as e:\n",
    "    print(e)"
   ]
  },
  {
   "cell_type": "markdown",
   "metadata": {
    "slideshow": {
     "slide_type": "slide"
    }
   },
   "source": [
    "## Pythonneries utiles\n",
    "--------"
   ]
  },
  {
   "cell_type": "markdown",
   "metadata": {
    "slideshow": {
     "slide_type": "subslide"
    }
   },
   "source": [
    "### Compréhension de listes\n",
    "-------------\n",
    "Une des marques de fabrique de Python est d'être un language clair et concis notamment à l'aide de la fonctionnalité de *compréhension de liste* qui s'exprime :\n",
    "\n",
    "```python\n",
    "new_list = [function(item) for item in list if condition(item)]\n",
    "```"
   ]
  },
  {
   "cell_type": "markdown",
   "metadata": {
    "slideshow": {
     "slide_type": "subslide"
    }
   },
   "source": [
    "Par exemple, imaginons que nous voulions filtrer une liste de valeurs pour ne garder que celles supérieures à 5 :"
   ]
  },
  {
   "cell_type": "code",
   "execution_count": null,
   "metadata": {
    "slideshow": {
     "slide_type": "-"
    }
   },
   "outputs": [],
   "source": [
    "ma_liste = [1, 3, 2, 5, 6, 2, 7, 6, 9]\n",
    "new_liste = []\n",
    "for element in ma_liste:\n",
    "    if element > 5:\n",
    "        new_liste.append(element)\n",
    "print(new_liste)        "
   ]
  },
  {
   "cell_type": "code",
   "execution_count": null,
   "metadata": {},
   "outputs": [],
   "source": [
    "new_liste = [element for element in ma_liste if element > 5]\n",
    "print('Taaaaddaaa!', new_liste)"
   ]
  },
  {
   "cell_type": "markdown",
   "metadata": {
    "slideshow": {
     "slide_type": "subslide"
    }
   },
   "source": [
    "#### Exercice\n",
    "----------\n",
    "- A l'aide d'une *compréhension de liste*, mettez au carré les entiers $\\in$ [1,20]:"
   ]
  },
  {
   "cell_type": "code",
   "execution_count": null,
   "metadata": {
    "deletable": false,
    "nbgrader": {
     "checksum": "a436662a63399481f4ba2ecdaa444eb9",
     "grade": false,
     "grade_id": "exo4",
     "locked": false,
     "schema_version": 1,
     "solution": true
    }
   },
   "outputs": [],
   "source": [
    "liste_depart = range(1,21)\n",
    "# YOUR CODE HERE\n",
    "raise NotImplementedError()"
   ]
  },
  {
   "cell_type": "code",
   "execution_count": null,
   "metadata": {
    "deletable": false,
    "editable": false,
    "nbgrader": {
     "checksum": "41e3b2c3da63c58fdf96ec6cf92e34c0",
     "grade": true,
     "grade_id": "rep_exo4",
     "locked": true,
     "points": 1,
     "schema_version": 1,
     "solution": false
    }
   },
   "outputs": [],
   "source": [
    "for el,carre in zip(liste_depart,liste_carre):\n",
    "    assert el**2 == carre "
   ]
  },
  {
   "cell_type": "markdown",
   "metadata": {
    "slideshow": {
     "slide_type": "subslide"
    }
   },
   "source": [
    "### lambda()\n",
    "-------------\n",
    "Une autre particularité de python est la possibilité de définir des **fonctions anonymes**.\n",
    "```python\n",
    "fonction = lambda liste_arguments: expression\n",
    "```"
   ]
  },
  {
   "cell_type": "code",
   "execution_count": null,
   "metadata": {},
   "outputs": [],
   "source": [
    "somme = lambda x, y: x+y\n",
    "print(somme(1,2))"
   ]
  },
  {
   "cell_type": "markdown",
   "metadata": {
    "slideshow": {
     "slide_type": "subslide"
    }
   },
   "source": [
    "#### Exercice\n",
    "----------\n",
    "- Transformez la fonction `f` suivante en fonction `lambda`:\n",
    "```python\n",
    "def f(x,y):\n",
    "    if x > y:\n",
    "        return x\n",
    "    else:\n",
    "        return y-x\n",
    "```\n",
    "- Appliquez la fonction `f` pour x=2 et y=3"
   ]
  },
  {
   "cell_type": "code",
   "execution_count": null,
   "metadata": {
    "deletable": false,
    "nbgrader": {
     "checksum": "e7317046f47696302bd712c18c9cf145",
     "grade": false,
     "grade_id": "exo2",
     "locked": false,
     "schema_version": 1,
     "solution": true
    }
   },
   "outputs": [],
   "source": [
    "# YOUR CODE HERE\n",
    "raise NotImplementedError()"
   ]
  },
  {
   "cell_type": "code",
   "execution_count": null,
   "metadata": {
    "deletable": false,
    "editable": false,
    "nbgrader": {
     "checksum": "89b5859c724b0de93663c7c550660dee",
     "grade": true,
     "grade_id": "rep_exo2",
     "locked": true,
     "points": 1,
     "schema_version": 1,
     "solution": false
    }
   },
   "outputs": [],
   "source": [
    "assert 'lambda' in f.__qualname__\n",
    "assert f(2,3) == 1"
   ]
  },
  {
   "cell_type": "markdown",
   "metadata": {
    "slideshow": {
     "slide_type": "subslide"
    }
   },
   "source": [
    "### map()\n",
    "-------------\n",
    "Cette méthode execute une fonction sur chaque item d'un élément itérable."
   ]
  },
  {
   "cell_type": "code",
   "execution_count": null,
   "metadata": {},
   "outputs": [],
   "source": [
    "def fahrenheit(T):\n",
    "    return ((float(9)/5)*T + 32)\n",
    "\n",
    "temperatures_celsius = (36.5, 37, 37.5, 38, 39)\n",
    "temperatures_farenheit = list(map(fahrenheit, temperatures_celsius))\n",
    "print(\"les températures en °F:\", temperatures_farenheit)"
   ]
  },
  {
   "cell_type": "markdown",
   "metadata": {
    "slideshow": {
     "slide_type": "subslide"
    }
   },
   "source": [
    "#### Exercice\n",
    "----------"
   ]
  },
  {
   "cell_type": "markdown",
   "metadata": {},
   "source": [
    "Utilisez une fonction anonyme (lambda) pour calculer les températures exprimées en °F en °C et utilisez cette fonction lambda dans la méthode map en prenant en paramètre de cette fonction la liste `temperatures_farenheit`."
   ]
  },
  {
   "cell_type": "code",
   "execution_count": null,
   "metadata": {
    "deletable": false,
    "nbgrader": {
     "checksum": "ee2417fc8fdd113a4ae5f8816c6d35e1",
     "grade": false,
     "grade_id": "exo1",
     "locked": false,
     "schema_version": 1,
     "solution": true
    }
   },
   "outputs": [],
   "source": [
    "# YOUR CODE HERE\n",
    "raise NotImplementedError()"
   ]
  },
  {
   "cell_type": "code",
   "execution_count": null,
   "metadata": {
    "deletable": false,
    "editable": false,
    "nbgrader": {
     "checksum": "a7755ec5677a39782527f6341009d3c1",
     "grade": true,
     "grade_id": "rep_exo1",
     "locked": true,
     "points": 1,
     "schema_version": 1,
     "solution": false
    }
   },
   "outputs": [],
   "source": [
    "for i, temperature in enumerate(temperatures_celsius):\n",
    "    assert mes_temp_celsius[i]-temperature < 1e-5"
   ]
  }
 ],
 "metadata": {
  "anaconda-cloud": {},
  "kernelspec": {
   "display_name": "Python 3",
   "language": "python",
   "name": "python3"
  },
  "language_info": {
   "codemirror_mode": {
    "name": "ipython",
    "version": 3
   },
   "file_extension": ".py",
   "mimetype": "text/x-python",
   "name": "python",
   "nbconvert_exporter": "python",
   "pygments_lexer": "ipython3",
   "version": "3.7.3"
  },
  "toc": {
   "base_numbering": 1,
   "nav_menu": {},
   "number_sections": false,
   "sideBar": true,
   "skip_h1_title": true,
   "title_cell": "Table des matières",
   "title_sidebar": "Contenu",
   "toc_cell": false,
   "toc_position": {
    "height": "calc(100% - 180px)",
    "left": "10px",
    "top": "150px",
    "width": "242px"
   },
   "toc_section_display": true,
   "toc_window_display": true
  },
  "toc-showcode": false,
  "toc-showmarkdowntxt": false,
  "toc-showtags": false,
  "widgets": {
   "application/vnd.jupyter.widget-state+json": {
    "state": {},
    "version_major": 2,
    "version_minor": 0
   }
  }
 },
 "nbformat": 4,
 "nbformat_minor": 2
}
