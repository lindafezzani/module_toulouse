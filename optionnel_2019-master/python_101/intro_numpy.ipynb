{
 "cells": [
  {
   "cell_type": "markdown",
   "metadata": {
    "slideshow": {
     "slide_type": "slide"
    }
   },
   "source": [
    "# Brève introduction à numpy\n",
    "-----------------"
   ]
  },
  {
   "cell_type": "markdown",
   "metadata": {},
   "source": [
    "[Numpy](www.numpy.org/) et [Scipy](https://www.scipy.org/) apportent à Python des fonctionnalités dans le domaine scientifique qui lui permettent de tenir la comparaison avec des logiciels dédiés tels que [matlab](https://fr.mathworks.com/products/matlab.html) (ou [Octave](https://www.gnu.org/software/octave/)), [mathematica](www.wolfram.com/mathematica/), [IDL](https://www.harrisgeospatial.com/SoftwareTechnology/IDL.aspx), [Pv-wave](https://www.roguewave.com/products-services/pv-wave)..."
   ]
  },
  {
   "cell_type": "markdown",
   "metadata": {},
   "source": [
    "Nous n'aborderons ici que le strict nécessaire à l'utilisation de ces 2  bibliothèques python dans le cadre de la formation. Si vous êtes intéressé par plus d'informations, allez voir les sites respectifs.\n",
    "\n",
    "Pour les utilisateurs de matlab, un comparatif avec *numpy* est disponible [ici](http://mathesaurus.sourceforge.net/matlab-numpy.html) "
   ]
  },
  {
   "cell_type": "markdown",
   "metadata": {
    "slideshow": {
     "slide_type": "subslide"
    }
   },
   "source": [
    "##  Les `array` de la bibliothèque numpy\n",
    "-----\n",
    "Une des fonctionnalités intéressante est un type particulier d'objet appelé [`ndarray()`](https://docs.scipy.org/doc/numpy/user/quickstart.html) qui représente un vecteur **multidimentionnel** d'objets de **même type**."
   ]
  },
  {
   "cell_type": "code",
   "execution_count": null,
   "metadata": {
    "slideshow": {
     "slide_type": "fragment"
    }
   },
   "outputs": [],
   "source": [
    "import numpy as np\n",
    "# creation d'un array à partir d'une liste\n",
    "arr_1 = np.array([0,1,2,3,4,5, 6, 7, 8],dtype=int)\n",
    "arr_1"
   ]
  },
  {
   "cell_type": "markdown",
   "metadata": {},
   "source": [
    "### Objets de type identique\n",
    "---------"
   ]
  },
  {
   "cell_type": "code",
   "execution_count": null,
   "metadata": {
    "slideshow": {
     "slide_type": "subslide"
    }
   },
   "outputs": [],
   "source": [
    "# Création d'un array avec des éléments hétérogènes \n",
    "arr_2 = np.array([1,'a', 1.4])\n",
    "arr_2"
   ]
  },
  {
   "cell_type": "markdown",
   "metadata": {
    "slideshow": {
     "slide_type": "fragment"
    }
   },
   "source": [
    "<p class='alert alert-info'>Les <b>données hétérogènes</b> ne sont pas acceptées et sont transformées en données unifiées.</p>"
   ]
  },
  {
   "cell_type": "markdown",
   "metadata": {
    "slideshow": {
     "slide_type": "subslide"
    }
   },
   "source": [
    "### Vecteur multidimensionnel\n",
    "----------"
   ]
  },
  {
   "cell_type": "code",
   "execution_count": null,
   "metadata": {
    "slideshow": {
     "slide_type": "subslide"
    }
   },
   "outputs": [],
   "source": [
    "# exemple de tableau 2D\n",
    "arr_2d = np.arange(9)\n",
    "print('tableau avant la méthode \"reshape\":',arr_2d)\n",
    "arr_2d = arr_2d.reshape((3,3))\n",
    "arr_2d_2 = np.array([[10,11,12],[13,14,15]])\n",
    "print(\"tableau 2D: \\n\",arr_2d,'\\nautre tableau 2D: \\n',arr_2d_2)"
   ]
  },
  {
   "cell_type": "code",
   "execution_count": null,
   "metadata": {
    "slideshow": {
     "slide_type": "subslide"
    }
   },
   "outputs": [],
   "source": [
    "# exemple de matrice 3D\n",
    "nd_ones = np.ones([2,3,2], dtype='int')\n",
    "print(nd_ones)"
   ]
  },
  {
   "cell_type": "markdown",
   "metadata": {},
   "source": [
    "<p class='alert alert-info'>Attention à la façon dont <em>numpy</em> crée les vecteurs: <b>array([z,y,x])</b></p>"
   ]
  },
  {
   "cell_type": "code",
   "execution_count": null,
   "metadata": {
    "slideshow": {
     "slide_type": "subslide"
    }
   },
   "outputs": [],
   "source": [
    "# la fonction flatten() aplatit un array multidimensionnel\n",
    "flat_arr_C = arr_2d_2.flatten(order='C')\n",
    "flat_arr_F = arr_2d_2.flatten(order='F')\n",
    "print(flat_arr_C, flat_arr_F)"
   ]
  },
  {
   "cell_type": "code",
   "execution_count": null,
   "metadata": {},
   "outputs": [],
   "source": [
    "# redimensionnement avec la fonction reshape()\n",
    "flat_arr_C.reshape(3,2)"
   ]
  },
  {
   "cell_type": "markdown",
   "metadata": {
    "slideshow": {
     "slide_type": "subslide"
    }
   },
   "source": [
    "### Selection et manipulation d'éléments\n",
    "-------------\n",
    "On accède, découpe ou manipule les éléments d'un `array` comme ceux d'une liste python."
   ]
  },
  {
   "cell_type": "markdown",
   "metadata": {},
   "source": [
    "#### Accès par indices"
   ]
  },
  {
   "cell_type": "code",
   "execution_count": null,
   "metadata": {},
   "outputs": [],
   "source": [
    "# accès à un élément\n",
    "arr_2d[0,0] = 1\n",
    "print('Le premier élément de la matrice:', arr_2d_2[0,0])\n",
    "print('Le dernier élément de la matrice:', arr_2d_2[-1,-1])\n",
    "# accès à un sous-ensemble d'éléments\n",
    "print(\"exemple d'accès à un sous-ensemble de la matrice:\\n\", \n",
    "    nd_ones[:,:-1,0:3])"
   ]
  },
  {
   "cell_type": "markdown",
   "metadata": {
    "slideshow": {
     "slide_type": "subslide"
    }
   },
   "source": [
    "La méthode `shape` de `array` permet d'accéder à la taille de chaque dimension du vecteur. \n",
    "\n",
    "La fonction `len()` de la bibliothèque python renvoie la taille de la première dimension"
   ]
  },
  {
   "cell_type": "code",
   "execution_count": null,
   "metadata": {},
   "outputs": [],
   "source": [
    "print(arr_2d.shape, arr_2d_2.shape)\n",
    "print(len(arr_2d), len(arr_2d_2))"
   ]
  },
  {
   "cell_type": "code",
   "execution_count": null,
   "metadata": {
    "slideshow": {
     "slide_type": "subslide"
    }
   },
   "outputs": [],
   "source": [
    "# enjambage\n",
    "print(\"on enjambe un élement sur 2:\\n\",arr_2d[::2,::2])"
   ]
  },
  {
   "cell_type": "markdown",
   "metadata": {
    "slideshow": {
     "slide_type": "subslide"
    }
   },
   "source": [
    "#### Accès par sous-liste"
   ]
  },
  {
   "cell_type": "code",
   "execution_count": null,
   "metadata": {
    "slideshow": {
     "slide_type": "-"
    }
   },
   "outputs": [],
   "source": [
    "arr_2d < 2 "
   ]
  },
  {
   "cell_type": "code",
   "execution_count": null,
   "metadata": {
    "slideshow": {
     "slide_type": "fragment"
    }
   },
   "outputs": [],
   "source": [
    "arr_2d[arr_2d < 2]"
   ]
  },
  {
   "cell_type": "code",
   "execution_count": null,
   "metadata": {
    "slideshow": {
     "slide_type": "fragment"
    }
   },
   "outputs": [],
   "source": [
    "arr_2d[np.logical_or(arr_2d<2, arr_2d>4)]"
   ]
  },
  {
   "cell_type": "code",
   "execution_count": null,
   "metadata": {},
   "outputs": [],
   "source": [
    "arr_2d[np.array([2,1,0])]"
   ]
  },
  {
   "cell_type": "markdown",
   "metadata": {
    "slideshow": {
     "slide_type": "slide"
    }
   },
   "source": [
    "## Opérations vectoriels et matricielles\n",
    "---------------"
   ]
  },
  {
   "cell_type": "code",
   "execution_count": 3,
   "metadata": {},
   "outputs": [],
   "source": [
    "import numpy as np\n",
    "import pandas as pd"
   ]
  },
  {
   "cell_type": "code",
   "execution_count": 26,
   "metadata": {},
   "outputs": [
    {
     "data": {
      "text/html": [
       "<div>\n",
       "<style scoped>\n",
       "    .dataframe tbody tr th:only-of-type {\n",
       "        vertical-align: middle;\n",
       "    }\n",
       "\n",
       "    .dataframe tbody tr th {\n",
       "        vertical-align: top;\n",
       "    }\n",
       "\n",
       "    .dataframe thead th {\n",
       "        text-align: right;\n",
       "    }\n",
       "</style>\n",
       "<table border=\"1\" class=\"dataframe\">\n",
       "  <thead>\n",
       "    <tr style=\"text-align: right;\">\n",
       "      <th></th>\n",
       "      <th>filename</th>\n",
       "      <th>taille</th>\n",
       "      <th>double_taille</th>\n",
       "    </tr>\n",
       "  </thead>\n",
       "  <tbody>\n",
       "    <tr>\n",
       "      <th>0</th>\n",
       "      <td>TOTO.IMG</td>\n",
       "      <td>10</td>\n",
       "      <td>20</td>\n",
       "    </tr>\n",
       "  </tbody>\n",
       "</table>\n",
       "</div>"
      ],
      "text/plain": [
       "   filename  taille  double_taille\n",
       "0  TOTO.IMG      10             20"
      ]
     },
     "execution_count": 26,
     "metadata": {},
     "output_type": "execute_result"
    }
   ],
   "source": [
    "dic = {'filename':['toto.img','titi.img', 'tata.img']}\n",
    "dic['taille']=[10, 15, 20]\n",
    "df = pd.DataFrame.from_dict(dic)\n",
    "df['double_taille'] = df['taille']*2\n",
    "df['filename'] = df['filename'].str.upper()\n",
    "df.query('taille < 15 & taille >= 10')"
   ]
  },
  {
   "cell_type": "code",
   "execution_count": 29,
   "metadata": {},
   "outputs": [
    {
     "data": {
      "text/plain": [
       "<matplotlib.axes._subplots.AxesSubplot at 0x2bc9fc3fbe0>"
      ]
     },
     "execution_count": 29,
     "metadata": {},
     "output_type": "execute_result"
    },
    {
     "data": {
      "image/png": "[encoded data removed]",
      "text/plain": [
       "<Figure size 432x288 with 1 Axes>"
      ]
     },
     "metadata": {
      "needs_background": "light"
     },
     "output_type": "display_data"
    }
   ],
   "source": [
    "%matplotlib inline\n",
    "df['taille'].plot()"
   ]
  },
  {
   "cell_type": "code",
   "execution_count": 32,
   "metadata": {},
   "outputs": [
    {
     "data": {
      "text/html": [
       "<div>\n",
       "<style scoped>\n",
       "    .dataframe tbody tr th:only-of-type {\n",
       "        vertical-align: middle;\n",
       "    }\n",
       "\n",
       "    .dataframe tbody tr th {\n",
       "        vertical-align: top;\n",
       "    }\n",
       "\n",
       "    .dataframe thead th {\n",
       "        text-align: right;\n",
       "    }\n",
       "</style>\n",
       "<table border=\"1\" class=\"dataframe\">\n",
       "  <thead>\n",
       "    <tr style=\"text-align: right;\">\n",
       "      <th></th>\n",
       "      <th>taille</th>\n",
       "      <th>double_taille</th>\n",
       "    </tr>\n",
       "    <tr>\n",
       "      <th>type</th>\n",
       "      <th></th>\n",
       "      <th></th>\n",
       "    </tr>\n",
       "  </thead>\n",
       "  <tbody>\n",
       "    <tr>\n",
       "      <th>bin</th>\n",
       "      <td>15</td>\n",
       "      <td>30</td>\n",
       "    </tr>\n",
       "    <tr>\n",
       "      <th>txt</th>\n",
       "      <td>15</td>\n",
       "      <td>30</td>\n",
       "    </tr>\n",
       "  </tbody>\n",
       "</table>\n",
       "</div>"
      ],
      "text/plain": [
       "      taille  double_taille\n",
       "type                       \n",
       "bin       15             30\n",
       "txt       15             30"
      ]
     },
     "execution_count": 32,
     "metadata": {},
     "output_type": "execute_result"
    }
   ],
   "source": [
    "df['type'] = ['bin','txt','bin']\n",
    "df.groupby('type').mean()"
   ]
  }
 ],
 "metadata": {
  "kernelspec": {
   "display_name": "Python 3",
   "language": "python",
   "name": "python3"
  },
  "language_info": {
   "codemirror_mode": {
    "name": "ipython",
    "version": 3
   },
   "file_extension": ".py",
   "mimetype": "text/x-python",
   "name": "python",
   "nbconvert_exporter": "python",
   "pygments_lexer": "ipython3",
   "version": "3.7.3"
  },
  "toc": {
   "base_numbering": 1,
   "nav_menu": {},
   "number_sections": false,
   "sideBar": true,
   "skip_h1_title": true,
   "title_cell": "Table of Contents",
   "title_sidebar": "Contents",
   "toc_cell": false,
   "toc_position": {},
   "toc_section_display": true,
   "toc_window_display": true
  }
 },
 "nbformat": 4,
 "nbformat_minor": 2
}
