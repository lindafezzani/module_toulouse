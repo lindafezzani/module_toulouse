{
 "cells": [
  {
   "cell_type": "markdown",
   "metadata": {
    "slideshow": {
     "slide_type": "slide"
    }
   },
   "source": [
    "<h1 style=\"text-align:center\"> Traitement d'images médicales  en python</h1>\n",
    "\n",
    "---"
   ]
  },
  {
   "cell_type": "markdown",
   "metadata": {
    "slideshow": {
     "slide_type": "subslide"
    }
   },
   "source": [
    "Le terme *Traitement d'images* regroupe plusieurs significations selon la finalité que l'on en a.\n",
    "\n",
    "- Identification d'objets, de personnes, ...\n",
    "- Lissage, restauration, ... \n",
    "- Transformations géométriques, morphologiques, ...\n",
    "- Reconstruction tomographique, ...\n",
    "- Extraction d'informations, ... "
   ]
  },
  {
   "cell_type": "markdown",
   "metadata": {
    "slideshow": {
     "slide_type": "subslide"
    }
   },
   "source": [
    "Dans le domaine médicale, nous sommes intéressés particulièrement par les techniques de *segmentation* et de *recalage* d'images. Ces techniques utilisent une grande partie, si ce n'est l'ensemble, des techniques listées ci-dessus.\n",
    "\n",
    "Dans le TP/TD que nous allons suivre, vous allez apprendre à utiliser quelques bibliothèques python qui permettront d'apprehender une grande partie des tâches de traitement d'images médicales."
   ]
  },
  {
   "cell_type": "markdown",
   "metadata": {
    "slideshow": {
     "slide_type": "subslide"
    }
   },
   "source": [
    "Pour suivre cette section, il faut être à l'aise avec la notion de liste et de array numpy. Pour rappel, consulter ce [document](../02_Python/rappels_listes_arrays.ipynb)"
   ]
  },
  {
   "cell_type": "markdown",
   "metadata": {
    "slideshow": {
     "slide_type": "slide"
    }
   },
   "source": [
    "## Les bibliothèques Python de traitement d'images\n",
    "----"
   ]
  },
  {
   "cell_type": "markdown",
   "metadata": {
    "slideshow": {
     "slide_type": "subslide"
    }
   },
   "source": [
    "En python, le nombre de bibliothèques *matures* de traitement d'images sont nombreuses. Citons par exemple:\n",
    "- [Pillow](https://pillow.readthedocs.io/en/5.2.x/), \n",
    "- [scipy.ndimages](https://docs.scipy.org/doc/scipy/reference/ndimage.html#),\n",
    "- [scikit-image](http://scikit-image.org),\n",
    "- [OpenCV-Python](https://docs.opencv.org/3.0-beta/doc/py_tutorials/py_tutorials.html),\n",
    "- [SimpleITK](http://www.simpleitk.org/)\n",
    "\n",
    "Ces bibliothèques sont assez complètes. Cependant, certains traitements spécifiques (filtres essentiellement) peuvent être absents dans certaines. C'est une des raisons pour lesquelles il est préférable d'apprendre à utiliser plusieures d'entre-elles  plutôt qu'une seule pour couvrir le maximum de situations."
   ]
  },
  {
   "cell_type": "markdown",
   "metadata": {},
   "source": [
    "Dans les TD/TP suivants, nous utiliserons essentiellement la bibliothèque standard et les bibliothèques *SimpleITK* et *scikit-image*."
   ]
  },
  {
   "cell_type": "markdown",
   "metadata": {
    "slideshow": {
     "slide_type": "slide"
    }
   },
   "source": [
    "# Prise en main de SimpleITK\n",
    "-----------------\n",
    "**[SimpleITK](http://www.simpleitk.org)** est une bibliothèque visant à faciliter l'utilisation de la bibliothèque [ITK](http://www.itk.org) en cachant sa relative complexité pour les profanes du c++ et en offrant des fonctionnalités de scripting avancées pour des languages tels que [python](http://www.python.org).\n",
    "\n",
    "Ce premier document constitue une introduction au format des images au sein de SimpleITK."
   ]
  },
  {
   "cell_type": "markdown",
   "metadata": {
    "slideshow": {
     "slide_type": "subslide"
    }
   },
   "source": [
    "## Les bases\n",
    "----------\n",
    "Pour commencer, nous importons le module *SimpleITK* dans l'espace de nommage."
   ]
  },
  {
   "cell_type": "code",
   "execution_count": 34,
   "metadata": {},
   "outputs": [],
   "source": [
    "import SimpleITK as sitk"
   ]
  },
  {
   "cell_type": "markdown",
   "metadata": {
    "slideshow": {
     "slide_type": "subslide"
    }
   },
   "source": [
    "## Construction d'une image\n",
    "--------\n",
    "Il existe plusieurs façons de créer une image ex nihilo dans ITK. Par exemple:"
   ]
  },
  {
   "cell_type": "code",
   "execution_count": 3,
   "metadata": {
    "slideshow": {
     "slide_type": "-"
    }
   },
   "outputs": [],
   "source": [
    "image = sitk.Image(256, 128, 64, sitk.sitkInt16)\n",
    "image_2D = sitk.Image(64, 64, sitk.sitkFloat32)\n",
    "image_2D = sitk.Image([32,32], sitk.sitkUInt32)\n",
    "image_RGB = sitk.Image([128,128], sitk.sitkVectorUInt8, 3)"
   ]
  },
  {
   "cell_type": "markdown",
   "metadata": {
    "slideshow": {
     "slide_type": "subslide"
    }
   },
   "source": [
    "#### Les types de pixels\n",
    "Voici la liste de tous les types d'images utilisables dans SimpleITK\n",
    "<a name=\"table1\"></a><table class='table table-striped'>\n",
    "  <tr><td>sitkUInt8</td><td>Unsigned 8 bit integer</td><td>sitkInt8</td><td>Signed 8 bit integer</td></tr>\n",
    "  <tr><td>sitkUInt16</td><td>Unsigned 16 bit integer</td><td>sitkInt16</td><td>Signed 16 bit integer</td></tr>\n",
    "  <tr><td>sitkUInt32</td><td>Unsigned 32 bit integer</td><td>sitkInt32</td><td>Signed 32 bit integer</td></tr>\n",
    "  <tr><td>sitkUInt64</td><td>Unsigned 64 bit integer</td><td>sitkInt64</td><td>Signed 64 bit integer</td></tr>\n",
    "  <tr><td>sitkFloat32</td><td>32 bit float</td><td>sitkFloat64</td><td>64 bit float</td></tr>\n",
    "  <tr><td>sitkComplexFloat32</td><td>complex number of 32 bit float</td><td>sitkComplexFloat64</td><td>complex number of 64 bit float</td></tr>\n",
    "  <tr><td>sitkVectorUInt8</td><td>Multi-component of unsigned 8 bit integer</td><td>sitkVectorInt8</td><td>Multi-component of signed 8 bit integer</td></tr>\n",
    "  <tr><td>sitkVectorUInt16</td><td>Multi-component of unsigned 16 bit integer</td><td>sitkVectorInt16</td><td>Multi-component of signed 16 bit integer</td></tr>\n",
    "  <tr><td>sitkVectorUInt32</td><td>Multi-component of unsigned 32 bit integer</td><td>sitkVectorInt32</td><td>Multi-component of signed 32 bit integer</td></tr>\n",
    "  <tr><td>sitkVectorUInt64</td><td>Multi-component of unsigned 64 bit integer</td><td>sitkVectorInt64</td><td>Multi-component of signed 64 bit integer</td></tr>\n",
    "  <tr><td>sitkVectorFloat32</td><td>Multi-component of 32 bit float</td><td>sitkVectorFloat64</td><td>Multi-component of 64 bit float</td></tr>\n",
    "  <tr><td>sitkLabelUInt8</td><td>RLE label of unsigned 8 bit integers</td><td>sitkLabelUInt16</td><td>RLE label of unsigned 16 bit integers</td></tr>\n",
    "  <tr><td>sitkLabelUInt32</td><td>RLE label of unsigned 32 bit integers</td><td>sitkLabelUInt64</td><td>RLE label of unsigned 64 bit integers</td></tr>\n",
    "</table>\n",
    "\n",
    "<small>Il existe aussi `sitkUnknown`, qui est utilisé pour des types de pixel inconnus ou bien erroné au momment de l'exécution.\n",
    "Les types entier de 64-bit ne sont pas disponibles sur tous les systèmes. Dans ce cas précis, la valeur est attribuée à `sitkUnknown`.</small>"
   ]
  },
  {
   "cell_type": "markdown",
   "metadata": {
    "slideshow": {
     "slide_type": "subslide"
    }
   },
   "source": [
    "## Lecture d'un fichier image\n",
    "----------\n",
    "La fonction ```ReadImage``` permet d'ouvrir le fichier d'une image présent sur le disque."
   ]
  },
  {
   "cell_type": "code",
   "execution_count": 12,
   "metadata": {
    "slideshow": {
     "slide_type": "fragment"
    }
   },
   "outputs": [
    {
     "name": "stdout",
     "output_type": "stream",
     "text": [
      "Help on function ReadImage in module SimpleITK.SimpleITK:\n",
      "\n",
      "ReadImage(*args)\n",
      "    ReadImage(VectorString fileNames, itk::simple::PixelIDValueEnum outputPixelType) -> Image\n",
      "    ReadImage(std::string const & filename, itk::simple::PixelIDValueEnum outputPixelType) -> Image\n",
      "    \n",
      "    \n",
      "    \n",
      "    ReadImage is a procedural interface to the ImageSeriesReader class which is convenient for most image reading tasks.\n",
      "    \n",
      "    \n",
      "    Note that when reading a series of images that have meta-data\n",
      "    associated with them (e.g. a DICOM series) the resulting image will\n",
      "    have an empty meta-data dictionary. It is possible to programmatically\n",
      "    add a meta-data dictionary to the compounded image by reading in one\n",
      "    or more images from the series using the ImageFileReader class,\n",
      "    analyzing the meta-dictionary associated with each of those images and\n",
      "    creating one that is relevant for the compounded image.\n",
      "    \n",
      "    \n",
      "    See:\n",
      "     itk::simple::ImageFileReader for reading a single file\n",
      "\n"
     ]
    }
   ],
   "source": [
    "help(sitk.ReadImage)"
   ]
  },
  {
   "cell_type": "markdown",
   "metadata": {
    "slideshow": {
     "slide_type": "subslide"
    }
   },
   "source": [
    "### Repérage spatial des images \n",
    "----------"
   ]
  },
  {
   "cell_type": "markdown",
   "metadata": {
    "slideshow": {
     "slide_type": "subslide"
    }
   },
   "source": [
    "Par convention, SimpleITK considère que **les images sont des objets physiques qui occupent une région close dans un espace physique**. \n",
    "\n",
    "Ce concept est illustré par la figure suivante :\n",
    "\n",
    "<center><img id = origine src=./imgs/ImageOriginAndSpacing.png width=70%></center>"
   ]
  },
  {
   "cell_type": "markdown",
   "metadata": {
    "slideshow": {
     "slide_type": "subslide"
    }
   },
   "source": [
    "Les composants nécessaires pour définir une image :\n",
    "1. Le type de pixel [*défini à la création, pas de valeur par défaut*] : pour la liste complète [voir au dessus](#table1).\n",
    "2. Les dimensions [*défini à la création, pas de valeur par défaut*] : le nombre de pixels/voxels dans chaque direction. Cela définit les dimensions de l'image.\n",
    "3. L'origine [*par défaut 0*] : coordonnée du pixel/voxel ayant l'indice (0,0,0) en unité physique (mm).\n",
    "4. L'espacement [*par défaut 1*] : distance en mm séparant 2 pixels/voxels adjacents dans chaque dimension.\n",
    "5. Matrice des directions [*par défaut la matrice identité*] : matrice liant les vecteurs directeurs de l'image et les axes des coordonnées physiques. \n",
    "\n",
    "Par convention, les indices des images commencent à 0. "
   ]
  },
  {
   "cell_type": "markdown",
   "metadata": {
    "slideshow": {
     "slide_type": "subslide"
    }
   },
   "source": [
    "## Accéder aux attributs des images\n",
    "Il est très simple d'accèder aux principales informations des images. "
   ]
  },
  {
   "cell_type": "code",
   "execution_count": 4,
   "metadata": {
    "slideshow": {
     "slide_type": "subslide"
    }
   },
   "outputs": [
    {
     "name": "stdout",
     "output_type": "stream",
     "text": [
      "les dimensions de l'image :  (256, 128, 64)  pixels\n",
      "L'origine est positionné au pixel : (0.0, 0.0, 0.0)\n",
      "La dimension des pixels : (1.0, 1.0, 1.0)  mm\n",
      "Les cosinus directeurs de l'image sont : (1.0, 0.0, 0.0, 0.0, 1.0, 0.0, 0.0, 0.0, 1.0)\n",
      "Le nombre d'octets par pixel : 1\n"
     ]
    }
   ],
   "source": [
    "print(\"les dimensions de l'image : \",image.GetSize(),\" pixels\")\n",
    "print(\"L'origine est positionné au pixel :\", image.GetOrigin())\n",
    "print(\"La dimension des pixels :\", image.GetSpacing(), \" mm\")\n",
    "print(\"Les cosinus directeurs de l'image sont :\",image.GetDirection()) \n",
    "print(\"Le nombre d'octets par pixel :\",image.GetNumberOfComponentsPerPixel()) "
   ]
  },
  {
   "cell_type": "code",
   "execution_count": 5,
   "metadata": {
    "slideshow": {
     "slide_type": "subslide"
    }
   },
   "outputs": [
    {
     "name": "stdout",
     "output_type": "stream",
     "text": [
      "Pour obtenir les dimensions individuelles de l'image :\n",
      "méthode 1 -> largeur: 256, hauteur: 128, profondeur: 64\n",
      "méthode 2 -> largeur: 256, hauteur: 128, profondeur: 64\n",
      "Dans le cas d'une image en 2D:\n",
      "(32, 32) 0\n"
     ]
    }
   ],
   "source": [
    "print(\"Pour obtenir les dimensions individuelles de l'image :\")\n",
    "print(\"méthode 1 -> largeur: {}, hauteur: {}, profondeur: {}\".format(image.GetWidth(), \n",
    "                                                                     image.GetHeight(),\n",
    "                                                                     image.GetDepth()))\n",
    "print(\"méthode 2 -> largeur: {}, hauteur: {}, profondeur: {}\".format(image.GetSize()[0],\n",
    "                                                                     image.GetSize()[1],\n",
    "                                                                     image.GetSize()[2]))\n",
    "print(\"Dans le cas d'une image en 2D:\")\n",
    "print(image_2D.GetSize(), image_2D.GetDepth())"
   ]
  },
  {
   "cell_type": "markdown",
   "metadata": {
    "slideshow": {
     "slide_type": "subslide"
    }
   },
   "source": [
    "## Accéder aux valeurs des pixels\n",
    "----------\n",
    "Il est possible d'accéder aux contenus des pixels grâce aux fonctions `SetPixel()` et `GetPixel()`.\n",
    "\n",
    "Les fonctions d'accès et l'ordonnancement des pixels dans l'image suivent l'ordre [x,y,z]."
   ]
  },
  {
   "cell_type": "code",
   "execution_count": 13,
   "metadata": {
    "slideshow": {
     "slide_type": "-"
    }
   },
   "outputs": [
    {
     "name": "stdout",
     "output_type": "stream",
     "text": [
      "Help on method GetPixel in module SimpleITK.SimpleITK:\n",
      "\n",
      "GetPixel(*idx) method of SimpleITK.SimpleITK.Image instance\n",
      "    Returns the value of a pixel.\n",
      "    \n",
      "    This method takes 2 parameters in 2D: the x and y index,\n",
      "    and 3 parameters in 3D: the x, y and z index.\n",
      "\n"
     ]
    }
   ],
   "source": [
    "help(image.GetPixel)"
   ]
  },
  {
   "cell_type": "code",
   "execution_count": 6,
   "metadata": {
    "slideshow": {
     "slide_type": "subslide"
    }
   },
   "outputs": [
    {
     "name": "stdout",
     "output_type": "stream",
     "text": [
      "valeur du pixel avant: 0\n",
      "valeur du pixel après: 1\n"
     ]
    }
   ],
   "source": [
    "# on affiche la valeur du pixel à l'origine\n",
    "print(\"valeur du pixel avant: {}\".format(image.GetPixel(0, 0, 0)))\n",
    "# on assigne la valeur 1 au pixel à l'origine\n",
    "image.SetPixel(0, 0, 0, 1)\n",
    "# on affiche la valeur du pixel à l'origine\n",
    "print(\"valeur du pixel après: {}\".format(image.GetPixel(0, 0, 0)))"
   ]
  },
  {
   "cell_type": "markdown",
   "metadata": {
    "slideshow": {
     "slide_type": "subslide"
    }
   },
   "source": [
    "On peut aussi utiliser une façon plus commune à *python* :"
   ]
  },
  {
   "cell_type": "code",
   "execution_count": 7,
   "metadata": {
    "slideshow": {
     "slide_type": "-"
    }
   },
   "outputs": [
    {
     "name": "stdout",
     "output_type": "stream",
     "text": [
      "valeur du pixel avant: 1\n",
      "valeur du pixel après: 10\n"
     ]
    }
   ],
   "source": [
    "# on affiche la valeur du pixel à l'origine\n",
    "print(\"valeur du pixel avant: {}\".format(image[0,0,0]))\n",
    "# on assigne la valeur 10 au pixel à l'origine\n",
    "image[0,0,0] = 10\n",
    "# on affiche la valeur du pixel à l'origine\n",
    "print(\"valeur du pixel après: {}\".format(image[0,0,0]))"
   ]
  },
  {
   "cell_type": "markdown",
   "metadata": {
    "slideshow": {
     "slide_type": "subslide"
    }
   },
   "source": [
    "## Opérations matricielles basiques\n",
    "-----------\n",
    "On peut réaliser des opérations basiques sur les matrices images à l'aide des opérateurs de hachage python."
   ]
  },
  {
   "cell_type": "code",
   "execution_count": 33,
   "metadata": {},
   "outputs": [
    {
     "name": "stdout",
     "output_type": "stream",
     "text": [
      "avant:\t direction (1.0, 0.0, 0.0, 1.0),\t origine (0.0, 0.0)\n",
      "après:\t direction (-1.0, 0.0, 0.0, 1.0),\t origine (115.0, 0.0)\n"
     ]
    }
   ],
   "source": [
    "# Lecture d'une image\n",
    "image_logo = sitk.ReadImage('SimpleITK.jpg')\n",
    "# sous-echantillonnage à la hussarde\n",
    "logo_subsampled = image_logo[::2,::2]\n",
    "# extraction \n",
    "simple = image_logo[0:115,:]\n",
    "print(\"avant:\\t direction {},\\t origine {}\".format(simple.GetDirection(), simple.GetOrigin()))\n",
    "# Get the sub-image containing the word Simple and flip it\n",
    "simple_flipped = image_logo[115:0:-1,:]\n",
    "print(\"après:\\t direction {},\\t origine {}\".format(simple_flipped.GetDirection(), simple_flipped.GetOrigin()))"
   ]
  },
  {
   "cell_type": "markdown",
   "metadata": {
    "slideshow": {
     "slide_type": "subslide"
    }
   },
   "source": [
    "## Affichage des images\n",
    "----\n",
    "La fonction `Show()` de *SimpleITK* permet d'afficher l'image passée en paramètre à la fonction. Par défaut, le système cherchera à utiliser le logiciel *[ImageJ/FIJI](http://fiji.github.io/)* présent sur votre système. \n",
    "\n",
    "Pour les images 3D, il est possible/préférable de changer le comportement par défaut en assignant la variable d'environnement `SITK_SHOW_3D_COMMAND` sur une autre application permettant de visualiser les images ([`ITK-SNAP`](http://www.itksnap.org), [`3D Slicer`](www.slicer.org))."
   ]
  },
  {
   "cell_type": "code",
   "execution_count": 22,
   "metadata": {
    "slideshow": {
     "slide_type": "subslide"
    }
   },
   "outputs": [
    {
     "name": "stdout",
     "output_type": "stream",
     "text": [
      "env: SITK_SHOW_COMMAND=\"C:\\Partage\\Fiji.app\\ImageJ-win64.exe\"\n",
      "env: SITK_SHOW_3D_COMMAND=\"C:\\Program Files\\Slicer 4.8.1\\Slicer.exe\"\n"
     ]
    }
   ],
   "source": [
    "import SimpleITK as sitk\n",
    "# Uncomment the line below to change the default external viewer to your viewer of choice and test that it works.\n",
    "%env SITK_SHOW_COMMAND \"C:\\Partage\\Fiji.app\\ImageJ-win64.exe\"\n",
    "%env SITK_SHOW_3D_COMMAND \"C:\\Program Files\\Slicer 4.8.1\\Slicer.exe\"\n",
    "# Retrieve an image from the network, read it and display using the external viewer\n",
    "sitk.Show(image_logo)"
   ]
  },
  {
   "cell_type": "markdown",
   "metadata": {
    "slideshow": {
     "slide_type": "subslide"
    }
   },
   "source": [
    "Au sein d'un notebook, On peut utiliser une bibliothèque d'affichage telle que `matplotlib`."
   ]
  },
  {
   "cell_type": "code",
   "execution_count": 32,
   "metadata": {},
   "outputs": [
    {
     "data": {
      "image/png": "[encoded data removed]",
      "text/plain": [
       "<Figure size 1080x288 with 4 Axes>"
      ]
     },
     "metadata": {
      "needs_background": "light"
     },
     "output_type": "display_data"
    }
   ],
   "source": [
    "%matplotlib inline\n",
    "import matplotlib.pyplot as plt\n",
    "plt.figure(figsize=(15,4))\n",
    "plt.subplot(2,2,1)\n",
    "plt.imshow(sitk.GetArrayViewFromImage(image_logo));\n",
    "plt.axis('off');\n",
    "plt.subplot(2,2,2)\n",
    "plt.imshow(sitk.GetArrayViewFromImage(logo_subsampled));\n",
    "plt.axis('off');\n",
    "plt.subplot(2,2,3)\n",
    "plt.imshow(sitk.GetArrayViewFromImage(simple));\n",
    "plt.axis('off');\n",
    "plt.subplot(2,2,4)\n",
    "plt.imshow(sitk.GetArrayViewFromImage(simple_flipped));\n",
    "plt.axis('off');"
   ]
  },
  {
   "cell_type": "markdown",
   "metadata": {
    "slideshow": {
     "slide_type": "subslide"
    }
   },
   "source": [
    "### SimpleITK vers Numpy et Numpy vers SimpleITK\n",
    "-----------\n",
    "l'indexation sous *SimpleITK* et *numpy* fonctionne en sens opposé! \n",
    "\n",
    "- SimpleITK : image[x,y,z]\n",
    "- numpy : image_numpy_array[z,y,x]"
   ]
  },
  {
   "cell_type": "markdown",
   "metadata": {
    "slideshow": {
     "slide_type": "subslide"
    }
   },
   "source": [
    "#### SimpleITK vers Numpy\n",
    "\n",
    "1. ```GetArrayFromImage()```: retourne une *copie* des pixels de l'image. Vous pouvez modifier les données à volonté sans effet sur l'image SimpleITK originale.\n",
    "2. ```GetArrayViewFromImage()```: retourne une *vue* des pixels de l'image pour des fins d'affichage et consomme moins de mémoire. Vous ne pouvez pas modifier les pixels et **la vue sera inaccessible si les données originales viennent à disparaitre**."
   ]
  },
  {
   "cell_type": "markdown",
   "metadata": {
    "slideshow": {
     "slide_type": "subslide"
    }
   },
   "source": [
    "#### Numpy vers SimpleITK\n",
    "1. ```GetImageFromArray()```: retourne une image SimpleITK avec des meta-données par défaut: \n",
    "- origine à zéro, \n",
    "- dimensions des pixels unitaire pour toutes les dimensions\n",
    "- la matrice des cosinus directeurs fixée to à la matrice identité. \n",
    "\n",
    "Les valeurs des pixels sont déterminées à partir du tableau numpy. __Dans la plupart des cas, vous devrez fixer les valeurs des meta-données de façon appropriée.__ "
   ]
  },
  {
   "cell_type": "markdown",
   "metadata": {
    "slideshow": {
     "slide_type": "subslide"
    }
   },
   "source": [
    "## Opérations mathématiques au niveau pixel :\n",
    "--------\n",
    "\n",
    "- Les types de pixels doivent être identiques pour les images\n",
    "- Méta-données prises en compte $\\rightarrow$ chevauchement des images (pixel à pixel).\n",
    "<table class='table table-striped' style=\"font-style:10em\">\n",
    "    <thead><th>Opérations mathématiques pour les images et les scalaires</th></thead>\n",
    "    <tr><td>+</td><td>Addition</td></tr>\n",
    "    <tr><td>-</td><td>Soustraction</td></tr>\n",
    "    <tr><td>*</td><td>Multiplication</td></tr>\n",
    "    <tr><td>/</td><td>Division</td></tr>\n",
    "    <tr><td>//</td><td>Division entière</td></tr>\n",
    "    <tr><td>**</td><td>Puissance</td></tr>\n",
    "<table>\n",
    "<p class='alert alert-danger'><small>Attention au dépassement de capacité et divisions par zéro.</small></p>    "
   ]
  },
  {
   "cell_type": "code",
   "execution_count": 116,
   "metadata": {
    "cell_style": "center",
    "slideshow": {
     "slide_type": "subslide"
    }
   },
   "outputs": [
    {
     "data": {
      "image/png": "[encoded data removed]",
      "text/plain": [
       "<Figure size 432x288 with 1 Axes>"
      ]
     },
     "metadata": {
      "needs_background": "light"
     },
     "output_type": "display_data"
    }
   ],
   "source": [
    "# construction de la première image\n",
    "img_width = 128\n",
    "img_height = 64\n",
    "img1 = sitk.Image((img_width, img_height), sitk.sitkUInt8)\n",
    "for i in range(img_width):\n",
    "    img1[i,i//(img_width//img_height)] = 5\n",
    "# consruction de la 2nd image\n",
    "img2 = sitk.Image(img1.GetSize(), sitk.sitkUInt8)\n",
    "# modification des paramètres de l'image 2\n",
    "#img2.SetDirection([0,1,0.5,0.5])\n",
    "#img2.SetOrigin([0.000001,0.000001])\n",
    "\n",
    "for i in range(img_width):\n",
    "    img2[i,img_height//2] = 10\n",
    "img3 = img1 + img2\n",
    "plt.imshow(sitk.GetArrayViewFromImage(img3), cmap=plt.cm.Greys_r)\n",
    "plt.axis('off');"
   ]
  },
  {
   "cell_type": "code",
   "execution_count": null,
   "metadata": {
    "code_folding": [
     11
    ],
    "slideshow": {
     "slide_type": "skip"
    }
   },
   "outputs": [],
   "source": [
    "# Resample slice to isotropic\n",
    "original_spacing = sitk_xslice.GetSpacing()\n",
    "original_size = sitk_xslice.GetSize()\n",
    "\n",
    "min_spacing = min(sitk_xslice.GetSpacing())\n",
    "new_spacing = [min_spacing, min_spacing]\n",
    "new_size = [int(round(original_size[0]*(original_spacing[0]/min_spacing))), \n",
    "            int(round(original_size[1]*(original_spacing[1]/min_spacing)))]\n",
    "resampleSliceFilter = sitk.ResampleImageFilter()\n",
    "\n",
    "# Why is the image pixelated?\n",
    "sitk_isotropic_xslice = resampleSliceFilter.Execute(sitk_xslice, new_size, sitk.Transform(), sitk.sitkNearestNeighbor, sitk_xslice.GetOrigin(),\n",
    "                                                    new_spacing, sitk_xslice.GetDirection(), 0, sitk_xslice.GetPixelID())\n",
    "\n",
    "plt.imshow(sitk.GetArrayViewFromImage(sitk_isotropic_xslice), cmap=plt.cm.Greys_r)\n",
    "plt.axis('off')\n",
    "print('Image spacing: {0}'.format(sitk_isotropic_xslice.GetSpacing()))"
   ]
  }
 ],
 "metadata": {
  "anaconda-cloud": {},
  "celltoolbar": "Create Assignment",
  "kernelspec": {
   "display_name": "Python 3",
   "language": "python",
   "name": "python3"
  },
  "language_info": {
   "codemirror_mode": {
    "name": "ipython",
    "version": 3
   },
   "file_extension": ".py",
   "mimetype": "text/x-python",
   "name": "python",
   "nbconvert_exporter": "python",
   "pygments_lexer": "ipython3",
   "version": "3.7.3"
  }
 },
 "nbformat": 4,
 "nbformat_minor": 4
}
